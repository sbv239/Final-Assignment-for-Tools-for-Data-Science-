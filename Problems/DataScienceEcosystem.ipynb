{
 "cells": [
  {
   "cell_type": "markdown",
   "id": "94f852db-3e45-4e8c-83d7-f41f8ab6ff0b",
   "metadata": {
    "tags": []
   },
   "source": [
    "# Data Science Tools and Ecosystem"
   ]
  },
  {
   "cell_type": "markdown",
   "id": "00518d15-cee4-41b8-afba-5eadbf2be260",
   "metadata": {},
   "source": [
    "In this notebook, Data Science Tools and Ecosystem are summarized."
   ]
  },
  {
   "cell_type": "markdown",
   "id": "50896442-15ad-4d35-a3e3-7443d7f5c4cb",
   "metadata": {},
   "source": [
    "**Objectives:**\n",
    "\n",
    "* list some of the popular languages\n",
    "* list some of the commonly used libraries\n",
    "* simple arithmetic expression"
   ]
  },
  {
   "cell_type": "markdown",
   "id": "fdc4f350-a6d7-4d3d-8834-5f45cd967602",
   "metadata": {
    "tags": []
   },
   "source": [
    "Some of the popular languages that Data Scientists use are:"
   ]
  },
  {
   "cell_type": "code",
   "execution_count": 9,
   "id": "9ef353cd-db60-42a0-9eeb-15819dda55eb",
   "metadata": {
    "tags": []
   },
   "outputs": [],
   "source": [
    "lang_list = ['python', 'R', 'Julia']"
   ]
  },
  {
   "cell_type": "markdown",
   "id": "fb29c9ce-e72d-4a63-a2c0-5d33f01bf2b9",
   "metadata": {},
   "source": [
    "Some of the commonly used libraries used by Data Scientists include:"
   ]
  },
  {
   "cell_type": "code",
   "execution_count": 10,
   "id": "2fdca19e-bfbf-45c1-9fb4-58b11d06bd2e",
   "metadata": {
    "tags": []
   },
   "outputs": [],
   "source": [
    "lib_list = ['NumPy', 'Keras', 'Pandas', 'PyTorch']"
   ]
  },
  {
   "cell_type": "markdown",
   "id": "4c2cec77-621d-4588-b58b-a3c9637889c0",
   "metadata": {},
   "source": [
    "| Data Science Tools |\n",
    "| --- |\n",
    "| Anaconda |\n",
    "| Rstudio |\n",
    "| Python |"
   ]
  },
  {
   "cell_type": "markdown",
   "id": "b6220775-6898-49d4-9436-c0acf75f8236",
   "metadata": {},
   "source": [
    "### Below are a few examples of evaluating arithmetic expressions in Python"
   ]
  },
  {
   "cell_type": "markdown",
   "id": "c4d35448-21f1-4cd9-a6c0-bd6fdd6237e4",
   "metadata": {},
   "source": [
    "This a simple arithmetic expression to mutiply then add integers:"
   ]
  },
  {
   "cell_type": "code",
   "execution_count": 11,
   "id": "283fd9db-39db-4740-91c1-4e01e6cff935",
   "metadata": {
    "tags": []
   },
   "outputs": [
    {
     "data": {
      "text/plain": [
       "17"
      ]
     },
     "execution_count": 11,
     "metadata": {},
     "output_type": "execute_result"
    }
   ],
   "source": [
    "(3*4)+5"
   ]
  },
  {
   "cell_type": "markdown",
   "id": "f8ccb558-46f9-4a55-a2a7-8b3c57ab8aae",
   "metadata": {},
   "source": [
    "This will convert 200 minutes to hours by diving by 60"
   ]
  },
  {
   "cell_type": "code",
   "execution_count": 12,
   "id": "0260e530-659d-47d6-9af5-1feb537a5b98",
   "metadata": {
    "tags": []
   },
   "outputs": [
    {
     "data": {
      "text/plain": [
       "3.3333333333333335"
      ]
     },
     "execution_count": 12,
     "metadata": {},
     "output_type": "execute_result"
    }
   ],
   "source": [
    "200/60"
   ]
  },
  {
   "cell_type": "markdown",
   "id": "0506349c-962f-4fab-b7e8-95d4e5776376",
   "metadata": {},
   "source": [
    "## Author\n",
    "\n",
    "Boris Shramko"
   ]
  }
 ],
 "metadata": {
  "kernelspec": {
   "display_name": "Python",
   "language": "python",
   "name": "conda-env-python-py"
  },
  "language_info": {
   "codemirror_mode": {
    "name": "ipython",
    "version": 3
   },
   "file_extension": ".py",
   "mimetype": "text/x-python",
   "name": "python",
   "nbconvert_exporter": "python",
   "pygments_lexer": "ipython3",
   "version": "3.7.12"
  }
 },
 "nbformat": 4,
 "nbformat_minor": 5
}
